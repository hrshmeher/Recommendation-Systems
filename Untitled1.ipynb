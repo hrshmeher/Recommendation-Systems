{
  "nbformat": 4,
  "nbformat_minor": 0,
  "metadata": {
    "colab": {
      "provenance": []
    },
    "kernelspec": {
      "name": "python3",
      "display_name": "Python 3"
    },
    "language_info": {
      "name": "python"
    }
  },
  "cells": [
    {
      "cell_type": "code",
      "source": [
        "import pandas as pd\n",
        "\n",
        "def load_data():\n",
        "    # Load MovieLens dataset\n",
        "    movies = pd.read_csv('movies.csv')\n",
        "    ratings = pd.read_csv('ratings.csv')\n",
        "    return movies, ratings\n",
        "\n",
        "def collaborative_filtering_recommendation(user_id, ratings, n_recommendations=5):\n",
        "    # Group ratings by user and calculate mean rating for each user\n",
        "    user_ratings = ratings.groupby('userId')['rating'].mean().reset_index()\n",
        "\n",
        "    # Merge user ratings with ratings DataFrame\n",
        "    user_ratings = pd.merge(ratings, user_ratings, on='userId', suffixes=('_user', '_avg'))\n",
        "\n",
        "    # Filter out movies already rated by the user\n",
        "    user_unrated_movies = user_ratings[user_ratings['userId'] == user_id]\n",
        "    user_unrated_movies = user_unrated_movies[user_unrated_movies['rating_user'] < user_unrated_movies['rating_avg']]\n",
        "\n",
        "    # Group unrated movies by movieId and calculate average rating for each movie\n",
        "    avg_ratings_by_movie = user_unrated_movies.groupby('movieId')['rating_user'].mean().reset_index()\n",
        "\n",
        "    # Sort movies by average rating in descending order\n",
        "    avg_ratings_by_movie = avg_ratings_by_movie.sort_values(by='rating_user', ascending=False)\n",
        "\n",
        "    # Get top n recommendations\n",
        "    top_recommendations = avg_ratings_by_movie.head(n_recommendations)\n",
        "\n",
        "    return top_recommendations\n",
        "\n",
        "def main():\n",
        "    movies, ratings = load_data()\n",
        "\n",
        "    user_id = 1  # Replace with the user ID for whom you want to make recommendations\n",
        "    n_recommendations = 5  # Number of recommendations to provide\n",
        "\n",
        "    recommendations = collaborative_filtering_recommendation(user_id, ratings, n_recommendations)\n",
        "\n",
        "    print(f\"Top {n_recommendations} movie recommendations for User {user_id}:\")\n",
        "    for _, movie in recommendations.iterrows():\n",
        "        movie_id = movie['movieId']\n",
        "        movie_title = movies[movies['movieId'] == movie_id]['title'].values[0]\n",
        "        print(f\"{movie_title} (MovieID: {movie_id})\")\n",
        "\n",
        "if __name__ == \"__main__\":\n",
        "    main()\n"
      ],
      "metadata": {
        "id": "xB4CLQ8CRkND"
      },
      "execution_count": null,
      "outputs": []
    }
  ]
}